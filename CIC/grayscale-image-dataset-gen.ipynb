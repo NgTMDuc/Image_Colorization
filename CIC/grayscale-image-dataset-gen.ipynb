{
 "cells": [
  {
   "cell_type": "code",
   "execution_count": 1,
   "id": "ee6f0f38",
   "metadata": {
    "execution": {
     "iopub.execute_input": "2023-07-10T11:44:31.068073Z",
     "iopub.status.busy": "2023-07-10T11:44:31.067671Z",
     "iopub.status.idle": "2023-07-10T11:44:31.863314Z",
     "shell.execute_reply": "2023-07-10T11:44:31.862055Z"
    },
    "papermill": {
     "duration": 0.803024,
     "end_time": "2023-07-10T11:44:31.866039",
     "exception": false,
     "start_time": "2023-07-10T11:44:31.063015",
     "status": "completed"
    },
    "tags": []
   },
   "outputs": [
    {
     "data": {
      "text/plain": [
       "['MAY24 Nikopol district Dnipropetrovsk region Private house damaged by kamikaze drone 4.jpg',\n",
       " 'APR09 Zaporizhzhia Fire in private house due to shelling 4.jpg',\n",
       " 'JAN13 Esman community Sumy region Shelling from mortars, Hrad rocket launchers. Private house, several yards damaged 2.jpg',\n",
       " 'APR15 Sloviansk Donetsk region Demolition of rubble of apartment building destroyed by shelling on APR14 2023 19.jpg',\n",
       " 'FEB15 Pokrovsk Donetsk region Apartment building, car, surrounding area damaged due to shelling 1.jpg']"
      ]
     },
     "execution_count": 1,
     "metadata": {},
     "output_type": "execute_result"
    }
   ],
   "source": [
    "import numpy as np # linear algebra\n",
    "import pandas as pd # data processing, CSV file I/O (e.g. pd.read_csv)\n",
    "from PIL import Image\n",
    "\n",
    "\n",
    "# Input data files are available in the read-only \"../input/\" directory\n",
    "# For example, running this (by clicking run or pressing Shift+Enter) will list all files under the input directory\n",
    "\n",
    "import os\n",
    "images_names = os.listdir('/kaggle/input/ukraine-images-2023/img_2023')\n",
    "images_names[:5]"
   ]
  },
  {
   "cell_type": "code",
   "execution_count": 2,
   "id": "1190fc77",
   "metadata": {
    "execution": {
     "iopub.execute_input": "2023-07-10T11:44:31.873521Z",
     "iopub.status.busy": "2023-07-10T11:44:31.873073Z",
     "iopub.status.idle": "2023-07-10T11:44:32.975070Z",
     "shell.execute_reply": "2023-07-10T11:44:32.973584Z"
    },
    "papermill": {
     "duration": 1.10881,
     "end_time": "2023-07-10T11:44:32.977717",
     "exception": false,
     "start_time": "2023-07-10T11:44:31.868907",
     "status": "completed"
    },
    "tags": []
   },
   "outputs": [],
   "source": [
    "! mkdir \"ukraine-images-2023-grayscale\""
   ]
  },
  {
   "cell_type": "code",
   "execution_count": 3,
   "id": "d5ff5f68",
   "metadata": {
    "execution": {
     "iopub.execute_input": "2023-07-10T11:44:32.985264Z",
     "iopub.status.busy": "2023-07-10T11:44:32.984381Z",
     "iopub.status.idle": "2023-07-10T11:51:42.864990Z",
     "shell.execute_reply": "2023-07-10T11:51:42.859830Z"
    },
    "papermill": {
     "duration": 429.898129,
     "end_time": "2023-07-10T11:51:42.878363",
     "exception": false,
     "start_time": "2023-07-10T11:44:32.980234",
     "status": "completed"
    },
    "tags": []
   },
   "outputs": [
    {
     "name": "stdout",
     "output_type": "stream",
     "text": [
      "Finished image 0\n",
      "Finished image 1000\n",
      "Finished image 2000\n",
      "Finished image 3000\n",
      "Finished image 4000\n",
      "Finished image 5000\n",
      "Finished image 6000\n",
      "Finished image 7000\n",
      "Finished image 8000\n",
      "Finished image 9000\n",
      "Finished image 10000\n",
      "10434 images\n"
     ]
    }
   ],
   "source": [
    "for index, image_name in enumerate(images_names):\n",
    "    img_rgb = Image.open(f'/kaggle/input/ukraine-images-2023/img_2023/{image_name}')\n",
    "    img_gray = img_rgb.convert('L')\n",
    "    img_gray.save(f'/kaggle/working/ukraine-images-2023-grayscale/{image_name}')\n",
    "    \n",
    "    if index % 1000 == 0:\n",
    "        print(f'Finished image {index}')\n",
    "\n",
    "print(index + 1, 'images')"
   ]
  }
 ],
 "metadata": {
  "kernelspec": {
   "display_name": "Python 3",
   "language": "python",
   "name": "python3"
  },
  "language_info": {
   "codemirror_mode": {
    "name": "ipython",
    "version": 3
   },
   "file_extension": ".py",
   "mimetype": "text/x-python",
   "name": "python",
   "nbconvert_exporter": "python",
   "pygments_lexer": "ipython3",
   "version": "3.10.10"
  },
  "papermill": {
   "default_parameters": {},
   "duration": 449.083073,
   "end_time": "2023-07-10T11:51:44.431890",
   "environment_variables": {},
   "exception": null,
   "input_path": "__notebook__.ipynb",
   "output_path": "__notebook__.ipynb",
   "parameters": {},
   "start_time": "2023-07-10T11:44:15.348817",
   "version": "2.4.0"
  }
 },
 "nbformat": 4,
 "nbformat_minor": 5
}
