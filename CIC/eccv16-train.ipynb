{
 "cells": [
  {
   "cell_type": "code",
   "execution_count": 1,
   "id": "f8c3369d",
   "metadata": {
    "_cell_guid": "b1076dfc-b9ad-4769-8c92-a6c4dae69d19",
    "_uuid": "8f2839f25d086af736a60e9eeb907d3b93b6e0e5",
    "execution": {
     "iopub.execute_input": "2023-07-11T00:44:27.378309Z",
     "iopub.status.busy": "2023-07-11T00:44:27.377875Z",
     "iopub.status.idle": "2023-07-11T00:44:30.832621Z",
     "shell.execute_reply": "2023-07-11T00:44:30.831629Z"
    },
    "papermill": {
     "duration": 3.463948,
     "end_time": "2023-07-11T00:44:30.835036",
     "exception": false,
     "start_time": "2023-07-11T00:44:27.371088",
     "status": "completed"
    },
    "tags": []
   },
   "outputs": [],
   "source": [
    "import os\n",
    "import numpy as np\n",
    "from PIL import Image\n",
    "import matplotlib.pyplot as plt\n",
    "from torch.utils.data import Dataset, DataLoader\n",
    "import warnings\n",
    "import time"
   ]
  },
  {
   "cell_type": "code",
   "execution_count": 2,
   "id": "3e28bf80",
   "metadata": {
    "execution": {
     "iopub.execute_input": "2023-07-11T00:44:30.846064Z",
     "iopub.status.busy": "2023-07-11T00:44:30.845557Z",
     "iopub.status.idle": "2023-07-11T00:44:38.318404Z",
     "shell.execute_reply": "2023-07-11T00:44:38.317381Z"
    },
    "papermill": {
     "duration": 7.480982,
     "end_time": "2023-07-11T00:44:38.320900",
     "exception": false,
     "start_time": "2023-07-11T00:44:30.839918",
     "status": "completed"
    },
    "tags": []
   },
   "outputs": [],
   "source": [
    "images_paths = list()\n",
    "for dirname, _, filenames in os.walk('/kaggle/input'):\n",
    "    for filename in filenames:\n",
    "        image_path = os.path.join(dirname, filename)\n",
    "        if image_path.endswith('.jpg') or image_path.endswith(\".png\"):\n",
    "            images_paths.append(image_path)"
   ]
  },
  {
   "cell_type": "code",
   "execution_count": 3,
   "id": "77edfd47",
   "metadata": {
    "execution": {
     "iopub.execute_input": "2023-07-11T00:44:38.331945Z",
     "iopub.status.busy": "2023-07-11T00:44:38.331212Z",
     "iopub.status.idle": "2023-07-11T00:44:38.338766Z",
     "shell.execute_reply": "2023-07-11T00:44:38.337914Z"
    },
    "papermill": {
     "duration": 0.014987,
     "end_time": "2023-07-11T00:44:38.340692",
     "exception": false,
     "start_time": "2023-07-11T00:44:38.325705",
     "status": "completed"
    },
    "tags": []
   },
   "outputs": [],
   "source": [
    "class ColorizationDataset(Dataset):\n",
    "    def __init__(self, paths):\n",
    "        self.paths = paths\n",
    "\n",
    "    def __getitem__(self, idx):\n",
    "        return self.paths[idx]\n",
    "\n",
    "    def __len__(self):\n",
    "        return len(self.paths)\n",
    "    \n",
    "    \n",
    "def make_dataloader(batch_size=16, n_workers=2, pin_memory=True, **kwargs):\n",
    "    dataset = ColorizationDataset(**kwargs)\n",
    "    dataloader = DataLoader(dataset, batch_size=batch_size, num_workers=n_workers,\n",
    "                            pin_memory=pin_memory)\n",
    "    return dataloader"
   ]
  },
  {
   "cell_type": "code",
   "execution_count": 4,
   "id": "f2e2b802",
   "metadata": {
    "execution": {
     "iopub.execute_input": "2023-07-11T00:44:38.351009Z",
     "iopub.status.busy": "2023-07-11T00:44:38.350281Z",
     "iopub.status.idle": "2023-07-11T00:44:38.360343Z",
     "shell.execute_reply": "2023-07-11T00:44:38.359356Z"
    },
    "papermill": {
     "duration": 0.018836,
     "end_time": "2023-07-11T00:44:38.363897",
     "exception": false,
     "start_time": "2023-07-11T00:44:38.345061",
     "status": "completed"
    },
    "tags": []
   },
   "outputs": [
    {
     "name": "stdout",
     "output_type": "stream",
     "text": [
      "11019 2755\n"
     ]
    }
   ],
   "source": [
    "np.random.seed(123)\n",
    "all_images = images_paths\n",
    "train_range = int(0.8 * len(all_images))\n",
    "rand_idxs = np.random.permutation(len(all_images))\n",
    "train_idxs = rand_idxs[:train_range] \n",
    "val_idxs = rand_idxs[train_range:] \n",
    "train_paths = [all_images[x] for x in train_idxs]\n",
    "val_paths = [all_images[x] for x in val_idxs]\n",
    "print(len(train_paths), len(val_paths))"
   ]
  },
  {
   "cell_type": "code",
   "execution_count": 5,
   "id": "8a0e9d61",
   "metadata": {
    "execution": {
     "iopub.execute_input": "2023-07-11T00:44:38.373862Z",
     "iopub.status.busy": "2023-07-11T00:44:38.373602Z",
     "iopub.status.idle": "2023-07-11T00:44:38.380534Z",
     "shell.execute_reply": "2023-07-11T00:44:38.379672Z"
    },
    "papermill": {
     "duration": 0.014166,
     "end_time": "2023-07-11T00:44:38.382490",
     "exception": false,
     "start_time": "2023-07-11T00:44:38.368324",
     "status": "completed"
    },
    "tags": []
   },
   "outputs": [
    {
     "data": {
      "text/plain": [
       "(689, 173)"
      ]
     },
     "execution_count": 5,
     "metadata": {},
     "output_type": "execute_result"
    }
   ],
   "source": [
    "train_loader = make_dataloader(paths=train_paths)\n",
    "val_loader = make_dataloader(paths=val_paths)\n",
    "len(train_loader), len(val_loader)"
   ]
  },
  {
   "cell_type": "code",
   "execution_count": 6,
   "id": "1e9cad92",
   "metadata": {
    "execution": {
     "iopub.execute_input": "2023-07-11T00:44:38.393067Z",
     "iopub.status.busy": "2023-07-11T00:44:38.392438Z",
     "iopub.status.idle": "2023-07-11T00:44:38.396683Z",
     "shell.execute_reply": "2023-07-11T00:44:38.395740Z"
    },
    "papermill": {
     "duration": 0.011597,
     "end_time": "2023-07-11T00:44:38.398672",
     "exception": false,
     "start_time": "2023-07-11T00:44:38.387075",
     "status": "completed"
    },
    "tags": []
   },
   "outputs": [],
   "source": [
    "def get_name_from_path(path):\n",
    "    return path.split('/')[-1]"
   ]
  },
  {
   "cell_type": "code",
   "execution_count": 7,
   "id": "30587eca",
   "metadata": {
    "execution": {
     "iopub.execute_input": "2023-07-11T00:44:38.409379Z",
     "iopub.status.busy": "2023-07-11T00:44:38.408668Z",
     "iopub.status.idle": "2023-07-11T00:44:38.413734Z",
     "shell.execute_reply": "2023-07-11T00:44:38.412928Z"
    },
    "papermill": {
     "duration": 0.01241,
     "end_time": "2023-07-11T00:44:38.415728",
     "exception": false,
     "start_time": "2023-07-11T00:44:38.403318",
     "status": "completed"
    },
    "tags": []
   },
   "outputs": [],
   "source": [
    "def save_grayscale_batch(batch):\n",
    "    for img_path in batch:\n",
    "        img_rgb = Image.open(img_path)\n",
    "        img_gray = img_rgb.convert('L')\n",
    "        img_gray.save(f'{get_name_from_path(img_path)}')"
   ]
  },
  {
   "cell_type": "code",
   "execution_count": 8,
   "id": "fb994aec",
   "metadata": {
    "execution": {
     "iopub.execute_input": "2023-07-11T00:44:38.426396Z",
     "iopub.status.busy": "2023-07-11T00:44:38.425668Z",
     "iopub.status.idle": "2023-07-11T00:44:38.430467Z",
     "shell.execute_reply": "2023-07-11T00:44:38.429663Z"
    },
    "papermill": {
     "duration": 0.012168,
     "end_time": "2023-07-11T00:44:38.432478",
     "exception": false,
     "start_time": "2023-07-11T00:44:38.420310",
     "status": "completed"
    },
    "tags": []
   },
   "outputs": [],
   "source": [
    "def save_batch(batch):\n",
    "    for img_path in batch:\n",
    "        img_rgb = Image.open(img_path)\n",
    "        img_rgb.save(f'{get_name_from_path(img_path)}')"
   ]
  },
  {
   "cell_type": "code",
   "execution_count": 9,
   "id": "26b16ea5",
   "metadata": {
    "execution": {
     "iopub.execute_input": "2023-07-11T00:44:38.442888Z",
     "iopub.status.busy": "2023-07-11T00:44:38.442271Z",
     "iopub.status.idle": "2023-07-11T00:44:38.446397Z",
     "shell.execute_reply": "2023-07-11T00:44:38.445547Z"
    },
    "papermill": {
     "duration": 0.011332,
     "end_time": "2023-07-11T00:44:38.448305",
     "exception": false,
     "start_time": "2023-07-11T00:44:38.436973",
     "status": "completed"
    },
    "tags": []
   },
   "outputs": [],
   "source": [
    "def load_grayscale_batch(batch):\n",
    "    return [f'{get_name_from_path(img_path)}' for img_path in batch]"
   ]
  },
  {
   "cell_type": "code",
   "execution_count": 10,
   "id": "3b7a849f",
   "metadata": {
    "execution": {
     "iopub.execute_input": "2023-07-11T00:44:38.458900Z",
     "iopub.status.busy": "2023-07-11T00:44:38.458183Z",
     "iopub.status.idle": "2023-07-11T00:44:38.462845Z",
     "shell.execute_reply": "2023-07-11T00:44:38.462038Z"
    },
    "papermill": {
     "duration": 0.011985,
     "end_time": "2023-07-11T00:44:38.464784",
     "exception": false,
     "start_time": "2023-07-11T00:44:38.452799",
     "status": "completed"
    },
    "tags": []
   },
   "outputs": [],
   "source": [
    "def del_grayscale_batch(batch):\n",
    "    for img_path in batch:\n",
    "        os.remove(f'{get_name_from_path(img_path)}')"
   ]
  },
  {
   "cell_type": "code",
   "execution_count": 11,
   "id": "0aa88c79",
   "metadata": {
    "execution": {
     "iopub.execute_input": "2023-07-11T00:44:38.475553Z",
     "iopub.status.busy": "2023-07-11T00:44:38.475278Z",
     "iopub.status.idle": "2023-07-11T00:44:38.588911Z",
     "shell.execute_reply": "2023-07-11T00:44:38.588005Z"
    },
    "papermill": {
     "duration": 0.121816,
     "end_time": "2023-07-11T00:44:38.591284",
     "exception": false,
     "start_time": "2023-07-11T00:44:38.469468",
     "status": "completed"
    },
    "tags": []
   },
   "outputs": [],
   "source": [
    "import torch\n",
    "from torch import nn\n",
    "\n",
    "class BaseColor(nn.Module):\n",
    "    def __init__(self):\n",
    "        super(BaseColor, self).__init__()\n",
    "\n",
    "        self.l_cent = 50.\n",
    "        self.l_norm = 100.\n",
    "        self.ab_norm = 110.\n",
    "\n",
    "    def normalize_l(self, in_l):\n",
    "        return (in_l-self.l_cent)/self.l_norm\n",
    "\n",
    "    def unnormalize_l(self, in_l):\n",
    "        return in_l*self.l_norm + self.l_cent\n",
    "\n",
    "    def normalize_ab(self, in_ab):\n",
    "        return in_ab/self.ab_norm\n",
    "\n",
    "    def unnormalize_ab(self, in_ab):\n",
    "        return in_ab*self.ab_norm\n",
    "\n",
    "\n",
    "\n",
    "class ECCVGenerator(BaseColor):\n",
    "    def __init__(self, norm_layer=nn.BatchNorm2d):\n",
    "        super(ECCVGenerator, self).__init__()\n",
    "\n",
    "        model1=[nn.Conv2d(1, 64, kernel_size=3, stride=1, padding=1, bias=True),]\n",
    "        model1+=[nn.ReLU(True),]\n",
    "        model1+=[nn.Conv2d(64, 64, kernel_size=3, stride=2, padding=1, bias=True),]\n",
    "        model1+=[nn.ReLU(True),]\n",
    "        model1+=[norm_layer(64),]\n",
    "\n",
    "        model2=[nn.Conv2d(64, 128, kernel_size=3, stride=1, padding=1, bias=True),]\n",
    "        model2+=[nn.ReLU(True),]\n",
    "        model2+=[nn.Conv2d(128, 128, kernel_size=3, stride=2, padding=1, bias=True),]\n",
    "        model2+=[nn.ReLU(True),]\n",
    "        model2+=[norm_layer(128),]\n",
    "\n",
    "        model3=[nn.Conv2d(128, 256, kernel_size=3, stride=1, padding=1, bias=True),]\n",
    "        model3+=[nn.ReLU(True),]\n",
    "        model3+=[nn.Conv2d(256, 256, kernel_size=3, stride=1, padding=1, bias=True),]\n",
    "        model3+=[nn.ReLU(True),]\n",
    "        model3+=[nn.Conv2d(256, 256, kernel_size=3, stride=2, padding=1, bias=True),]\n",
    "        model3+=[nn.ReLU(True),]\n",
    "        model3+=[norm_layer(256),]\n",
    "\n",
    "        model4=[nn.Conv2d(256, 512, kernel_size=3, stride=1, padding=1, bias=True),]\n",
    "        model4+=[nn.ReLU(True),]\n",
    "        model4+=[nn.Conv2d(512, 512, kernel_size=3, stride=1, padding=1, bias=True),]\n",
    "        model4+=[nn.ReLU(True),]\n",
    "        model4+=[nn.Conv2d(512, 512, kernel_size=3, stride=1, padding=1, bias=True),]\n",
    "        model4+=[nn.ReLU(True),]\n",
    "        model4+=[norm_layer(512),]\n",
    "\n",
    "        model5=[nn.Conv2d(512, 512, kernel_size=3, dilation=2, stride=1, padding=2, bias=True),]\n",
    "        model5+=[nn.ReLU(True),]\n",
    "        model5+=[nn.Conv2d(512, 512, kernel_size=3, dilation=2, stride=1, padding=2, bias=True),]\n",
    "        model5+=[nn.ReLU(True),]\n",
    "        model5+=[nn.Conv2d(512, 512, kernel_size=3, dilation=2, stride=1, padding=2, bias=True),]\n",
    "        model5+=[nn.ReLU(True),]\n",
    "        model5+=[norm_layer(512),]\n",
    "\n",
    "        model6=[nn.Conv2d(512, 512, kernel_size=3, dilation=2, stride=1, padding=2, bias=True),]\n",
    "        model6+=[nn.ReLU(True),]\n",
    "        model6+=[nn.Conv2d(512, 512, kernel_size=3, dilation=2, stride=1, padding=2, bias=True),]\n",
    "        model6+=[nn.ReLU(True),]\n",
    "        model6+=[nn.Conv2d(512, 512, kernel_size=3, dilation=2, stride=1, padding=2, bias=True),]\n",
    "        model6+=[nn.ReLU(True),]\n",
    "        model6+=[norm_layer(512),]\n",
    "\n",
    "        model7=[nn.Conv2d(512, 512, kernel_size=3, stride=1, padding=1, bias=True),]\n",
    "        model7+=[nn.ReLU(True),]\n",
    "        model7+=[nn.Conv2d(512, 512, kernel_size=3, stride=1, padding=1, bias=True),]\n",
    "        model7+=[nn.ReLU(True),]\n",
    "        model7+=[nn.Conv2d(512, 512, kernel_size=3, stride=1, padding=1, bias=True),]\n",
    "        model7+=[nn.ReLU(True),]\n",
    "        model7+=[norm_layer(512),]\n",
    "\n",
    "        model8=[nn.ConvTranspose2d(512, 256, kernel_size=4, stride=2, padding=1, bias=True),]\n",
    "        model8+=[nn.ReLU(True),]\n",
    "        model8+=[nn.Conv2d(256, 256, kernel_size=3, stride=1, padding=1, bias=True),]\n",
    "        model8+=[nn.ReLU(True),]\n",
    "        model8+=[nn.Conv2d(256, 256, kernel_size=3, stride=1, padding=1, bias=True),]\n",
    "        model8+=[nn.ReLU(True),]\n",
    "\n",
    "        model8+=[nn.Conv2d(256, 313, kernel_size=1, stride=1, padding=0, bias=True),]\n",
    "\n",
    "        self.model1 = nn.Sequential(*model1)\n",
    "        self.model2 = nn.Sequential(*model2)\n",
    "        self.model3 = nn.Sequential(*model3)\n",
    "        self.model4 = nn.Sequential(*model4)\n",
    "        self.model5 = nn.Sequential(*model5)\n",
    "        self.model6 = nn.Sequential(*model6)\n",
    "        self.model7 = nn.Sequential(*model7)\n",
    "        self.model8 = nn.Sequential(*model8)\n",
    "\n",
    "        self.softmax = nn.Softmax(dim=1)\n",
    "        self.model_out = nn.Conv2d(313, 2, kernel_size=1, padding=0, dilation=1, stride=1, bias=False)\n",
    "        self.upsample4 = nn.Upsample(scale_factor=4, mode='bilinear')\n",
    "\n",
    "    def forward(self, input_l):\n",
    "        conv1_2 = self.model1(self.normalize_l(input_l))\n",
    "        conv2_2 = self.model2(conv1_2)\n",
    "        conv3_3 = self.model3(conv2_2)\n",
    "        conv4_3 = self.model4(conv3_3)\n",
    "        conv5_3 = self.model5(conv4_3)\n",
    "        conv6_3 = self.model6(conv5_3)\n",
    "        conv7_3 = self.model7(conv6_3)\n",
    "        conv8_3 = self.model8(conv7_3)\n",
    "        out_reg = self.model_out(self.softmax(conv8_3))\n",
    "\n",
    "        return self.unnormalize_ab(self.upsample4(out_reg))\n",
    "\n",
    "def eccv16(pretrained=True):\n",
    "    model = ECCVGenerator()\n",
    "    if(pretrained):\n",
    "        import torch.utils.model_zoo as model_zoo\n",
    "        model.load_state_dict(model_zoo.load_url('https://colorizers.s3.us-east-2.amazonaws.com/colorization_release_v2-9b330a0b.pth',map_location='cpu',check_hash=True))\n",
    "    return model\n",
    "\n",
    "\n",
    "from PIL import Image\n",
    "import numpy as np\n",
    "from skimage import color\n",
    "import torch\n",
    "import torch.nn.functional as F\n",
    "\n",
    "# def load_img(img_path):\n",
    "def load_imgs(img_path_list):\n",
    "    out_np_list = [np.asarray(Image.open(img_path))\n",
    "                   for img_path in img_path_list]\n",
    "    \n",
    "    # if(out_np.ndim==2):\n",
    "    #    out_np = np.tile(out_np[:,:,None],3)\n",
    "    for i, out_np in enumerate(out_np_list):\n",
    "        if out_np.ndim==2:\n",
    "            out_np_list[i] = np.tile(out_np[:,:,None],3)\n",
    "    # return out_np\n",
    "    return out_np_list\n",
    "\n",
    "def resize_img(img, HW=(256,256), resample=3):\n",
    "    return np.asarray(Image.fromarray(img).resize((HW[1],HW[0]), resample=resample))\n",
    "\n",
    "# def preprocess_img(img_rgb_orig, HW=(256,256), resample=3):\n",
    "def preprocess_imgs(img_rgb_orig_list, HW=(256,256), resample=3):\n",
    "    # return original size L and resized L as torch Tensors\n",
    "    # img_rgb_rs = resize_img(img_rgb_orig, HW=HW, resample=resample)\n",
    "    img_rgb_rs_list = [resize_img(img_rgb_orig, HW=HW, resample=resample)\n",
    "                       for img_rgb_orig in img_rgb_orig_list]\n",
    "\n",
    "    # img_lab_orig = color.rgb2lab(img_rgb_orig)\n",
    "    # img_lab_rs = color.rgb2lab(img_rgb_rs)\n",
    "    img_lab_orig_list = [color.rgb2lab(img_rgb_orig)\n",
    "                         for img_rgb_orig in img_rgb_orig_list]\n",
    "    img_lab_rs_list = [color.rgb2lab(img_rgb_rs)\n",
    "                       for img_rgb_rs in img_rgb_rs_list]\n",
    "\n",
    "    # img_l_orig = img_lab_orig[:,:,0]\n",
    "    # img_l_rs = img_lab_rs[:,:,0]\n",
    "    img_l_orig_list = [img_lab_orig[:,:,0]\n",
    "                       for img_lab_orig in img_lab_orig_list]\n",
    "    img_l_rs_list = [img_lab_rs[:,:,0]\n",
    "                     for img_lab_rs in img_lab_rs_list]\n",
    "    # FOR GT\n",
    "    # (256, 256, 2) 1 2 -> 0 1\n",
    "    img_ab_rs_list = [torch.transpose(torch.transpose(torch.Tensor(img_lab_rs[:,:,1:3]), 1, 2), 0, 1)\n",
    "                     for img_lab_rs in img_lab_rs_list]\n",
    "\n",
    "    # RESHAPE FIRST\n",
    "    img_l_rs_list_reshaped = [torch.Tensor(img_l_rs)[None, None, :, :]\n",
    "                              for img_l_rs in img_l_rs_list]\n",
    "    img_ab_rs_list_reshaped = [torch.Tensor(img_ab_rs)[None,:, :, :]\n",
    "                              for img_ab_rs in img_ab_rs_list]\n",
    "\n",
    "    # tens_orig_l = torch.Tensor(img_l_orig)[None,None,:,:]\n",
    "    # tens_rs_l = torch.Tensor(img_l_rs)[None,None,:,:]\n",
    "    tens_orig_l_list = [torch.Tensor(img_l_orig)[None,None,:,:]\n",
    "                        for img_l_orig in img_l_orig_list]\n",
    "    \n",
    "    batch_size = len(img_rgb_orig_list)\n",
    "    tens_rs_l_tensor = torch.cat(img_l_rs_list_reshaped, dim=0)\n",
    "    tens_rs_ab_tensor = torch.cat(img_ab_rs_list_reshaped, dim=0)\n",
    "\n",
    "    return (tens_orig_l_list, tens_rs_l_tensor, tens_rs_ab_tensor)\n",
    "\n",
    "# def postprocess_tens(tens_orig_l, out_ab, mode='bilinear'):\n",
    "def postprocess_imgs(tens_orig_l_list, out_ab, mode='bilinear'):\n",
    "    # tens_orig_l     1 x 1 x H_orig x W_orig\n",
    "    # out_ab         1 x 2 x H x W\n",
    "    \n",
    "    # tens_orig_l_list: (16 elements) 1 x 1 x H_orig x W_orig\n",
    "    # out_ab                          16 x 2 x H x W\n",
    "\n",
    "    # HW_orig = tens_orig_l.shape[2:]\n",
    "    # HW = out_ab.shape[2:]\n",
    "    HW_orig_list = [tens_orig_l.shape[2:] for tens_orig_l in tens_orig_l_list]  # 16 ele H_orig x W_orig\n",
    "    HW = out_ab.shape[2:]  # (H, W)\n",
    "\n",
    "    # call resize function if needed\n",
    "    #if(HW_orig[0]!=HW[0] or HW_orig[1]!=HW[1]):\n",
    "    #    out_ab_orig = F.interpolate(out_ab, size=HW_orig, mode='bilinear')\n",
    "    #else:\n",
    "    #    out_ab_orig = out_ab\n",
    "    \n",
    "    out_ab_orig_list = list()\n",
    "    for i, HW_orig in enumerate(HW_orig_list):\n",
    "        if(HW_orig[0]!=HW[0] or HW_orig[1]!=HW[1]):\n",
    "            out_ab_orig = F.interpolate(out_ab[i][None, :, :, :], size=HW_orig, mode='bilinear')\n",
    "        else:\n",
    "            out_ab_orig = out_ab[i][None, :, :, :]     \n",
    "        out_ab_orig_list.append(out_ab_orig)\n",
    "\n",
    "    # out_lab_orig = torch.cat((tens_orig_l, out_ab_orig), dim=1)\n",
    "    out_lab_orig_list = list()\n",
    "    for i in range(len(out_ab_orig_list)):\n",
    "        out_lab_orig_list.append(\n",
    "            torch.cat((tens_orig_l_list[i].cuda(), out_ab_orig_list[i]), dim=1)\n",
    "        )\n",
    "    \n",
    "    # return color.lab2rgb(out_lab_orig.data.cpu().numpy()[0,...].transpose((1,2,0)))\n",
    "    return [color.lab2rgb(out_lab_orig.data.cpu().numpy()[0,...].transpose((1,2,0)))\n",
    "           for out_lab_orig in out_lab_orig_list]"
   ]
  },
  {
   "cell_type": "code",
   "execution_count": 12,
   "id": "67b555bc",
   "metadata": {
    "execution": {
     "iopub.execute_input": "2023-07-11T00:44:38.602181Z",
     "iopub.status.busy": "2023-07-11T00:44:38.601901Z",
     "iopub.status.idle": "2023-07-11T00:44:46.799126Z",
     "shell.execute_reply": "2023-07-11T00:44:46.797999Z"
    },
    "papermill": {
     "duration": 8.20574,
     "end_time": "2023-07-11T00:44:46.801775",
     "exception": false,
     "start_time": "2023-07-11T00:44:38.596035",
     "status": "completed"
    },
    "tags": []
   },
   "outputs": [
    {
     "name": "stderr",
     "output_type": "stream",
     "text": [
      "Downloading: \"https://colorizers.s3.us-east-2.amazonaws.com/colorization_release_v2-9b330a0b.pth\" to /root/.cache/torch/hub/checkpoints/colorization_release_v2-9b330a0b.pth\n",
      "100%|██████████| 123M/123M [00:04<00:00, 30.8MB/s]\n"
     ]
    }
   ],
   "source": [
    "model = eccv16().cuda()\n",
    "optimizer = torch.optim.AdamW(model.parameters(), lr=0.001, betas=(0.9, 0.999), weight_decay=0.01)"
   ]
  },
  {
   "cell_type": "markdown",
   "id": "7623d689",
   "metadata": {
    "papermill": {
     "duration": 0.00712,
     "end_time": "2023-07-11T00:44:46.816735",
     "exception": false,
     "start_time": "2023-07-11T00:44:46.809615",
     "status": "completed"
    },
    "tags": []
   },
   "source": [
    "(689, 173) batches"
   ]
  },
  {
   "cell_type": "code",
   "execution_count": 13,
   "id": "1e2af9e2",
   "metadata": {
    "execution": {
     "iopub.execute_input": "2023-07-11T00:44:46.832596Z",
     "iopub.status.busy": "2023-07-11T00:44:46.832269Z",
     "iopub.status.idle": "2023-07-11T02:41:50.295807Z",
     "shell.execute_reply": "2023-07-11T02:41:50.294688Z"
    },
    "papermill": {
     "duration": 7023.474393,
     "end_time": "2023-07-11T02:41:50.298393",
     "exception": false,
     "start_time": "2023-07-11T00:44:46.824000",
     "status": "completed"
    },
    "tags": []
   },
   "outputs": [
    {
     "name": "stdout",
     "output_type": "stream",
     "text": [
      "Epoch 0\n"
     ]
    },
    {
     "name": "stderr",
     "output_type": "stream",
     "text": [
      "/opt/conda/lib/python3.10/site-packages/scipy/__init__.py:146: UserWarning: A NumPy version >=1.16.5 and <1.23.0 is required for this version of SciPy (detected version 1.23.5\n",
      "  warnings.warn(f\"A NumPy version >={np_minversion} and <{np_maxversion}\"\n"
     ]
    },
    {
     "name": "stdout",
     "output_type": "stream",
     "text": [
      "Batch 0: loss=259.93499755859375\n",
      "Batch 10: loss=279.66143798828125\n",
      "Batch 20: loss=271.2876281738281\n",
      "Batch 30: loss=228.63746643066406\n",
      "Batch 40: loss=228.61029052734375\n",
      "Batch 50: loss=246.81988525390625\n",
      "Batch 60: loss=280.8636474609375\n",
      "Batch 70: loss=256.50384521484375\n",
      "Batch 80: loss=232.77890014648438\n",
      "Batch 90: loss=268.705078125\n",
      "Batch 100: loss=247.57350158691406\n",
      "Batch 110: loss=236.9270782470703\n",
      "Batch 120: loss=242.47366333007812\n",
      "Batch 130: loss=257.30853271484375\n",
      "Batch 140: loss=292.57379150390625\n",
      "Batch 150: loss=262.5314636230469\n",
      "Batch 160: loss=256.57501220703125\n",
      "Batch 170: loss=288.02825927734375\n",
      "Batch 180: loss=234.28829956054688\n",
      "Batch 190: loss=217.398681640625\n",
      "Batch 200: loss=282.6939392089844\n",
      "Batch 210: loss=247.10044860839844\n",
      "Batch 220: loss=288.63739013671875\n",
      "Batch 230: loss=228.235595703125\n",
      "Batch 240: loss=248.71852111816406\n",
      "Batch 250: loss=245.79176330566406\n",
      "Batch 260: loss=318.04754638671875\n",
      "Batch 270: loss=281.4925842285156\n",
      "Batch 280: loss=248.8095245361328\n",
      "Batch 290: loss=244.7302703857422\n",
      "Batch 300: loss=242.2899932861328\n",
      "Batch 310: loss=261.18756103515625\n",
      "Batch 320: loss=241.89630126953125\n",
      "Batch 330: loss=226.83523559570312\n",
      "Batch 340: loss=253.33981323242188\n",
      "Batch 350: loss=281.98419189453125\n",
      "Batch 360: loss=280.09375\n",
      "Batch 370: loss=239.26927185058594\n",
      "Batch 380: loss=267.03228759765625\n",
      "Batch 390: loss=257.24365234375\n",
      "Batch 400: loss=272.45440673828125\n",
      "Batch 410: loss=264.0787353515625\n",
      "Batch 420: loss=286.2812805175781\n",
      "Batch 430: loss=223.55075073242188\n",
      "Batch 440: loss=295.1472473144531\n",
      "Batch 450: loss=246.83639526367188\n",
      "Batch 460: loss=236.296630859375\n",
      "Batch 470: loss=255.2235870361328\n",
      "Batch 480: loss=252.78683471679688\n",
      "Batch 490: loss=239.22579956054688\n",
      "Batch 500: loss=250.16160583496094\n",
      "Batch 510: loss=264.63671875\n",
      "Batch 520: loss=235.02056884765625\n",
      "Batch 530: loss=255.67617797851562\n",
      "Batch 540: loss=242.1534423828125\n",
      "Batch 550: loss=269.9799499511719\n",
      "Batch 560: loss=268.00750732421875\n",
      "Batch 570: loss=262.8272705078125\n",
      "Batch 580: loss=257.18634033203125\n",
      "Batch 590: loss=263.7937927246094\n",
      "Batch 600: loss=236.24212646484375\n",
      "Batch 610: loss=240.32293701171875\n",
      "Batch 620: loss=242.19052124023438\n",
      "Batch 630: loss=246.01040649414062\n",
      "Batch 640: loss=259.39361572265625\n",
      "Batch 650: loss=242.21035766601562\n",
      "Batch 660: loss=231.82815551757812\n",
      "Batch 670: loss=279.51531982421875\n",
      "Batch 680: loss=235.92068481445312\n"
     ]
    }
   ],
   "source": [
    "for epoch in range(50):\n",
    "    print(f'Epoch {epoch}')\n",
    "    for batch_idx, batch in enumerate(train_loader):\n",
    "        optimizer.zero_grad()\n",
    "        \n",
    "        save_grayscale_batch(batch)\n",
    "\n",
    "        grayscale_batch = load_grayscale_batch(batch)\n",
    "\n",
    "        grayscale_imgs = load_imgs(grayscale_batch)\n",
    "        orig_l_list, rs_l_tensor, gt = preprocess_imgs(grayscale_imgs)\n",
    "        output_tensor = model(rs_l_tensor.cuda())\n",
    "\n",
    "        with warnings.catch_warnings():\n",
    "            warnings.simplefilter(\"ignore\")\n",
    "            postprocessed_imgs = postprocess_imgs(orig_l_list, output_tensor)\n",
    "        \n",
    "        loss = F.mse_loss(output_tensor, gt.cuda())\n",
    "        loss.backward()\n",
    "        \n",
    "        if batch_idx % 10 == 0:\n",
    "            print(f'Batch {batch_idx}: loss={loss}')\n",
    "\n",
    "        del_grayscale_batch(batch)\n",
    "    \n",
    "    torch.save(model.state_dict(), f'model_{epoch}')\n",
    "    break"
   ]
  }
 ],
 "metadata": {
  "kernelspec": {
   "display_name": "Python 3",
   "language": "python",
   "name": "python3"
  },
  "language_info": {
   "codemirror_mode": {
    "name": "ipython",
    "version": 3
   },
   "file_extension": ".py",
   "mimetype": "text/x-python",
   "name": "python",
   "nbconvert_exporter": "python",
   "pygments_lexer": "ipython3",
   "version": "3.10.12"
  },
  "papermill": {
   "default_parameters": {},
   "duration": 7056.42757,
   "end_time": "2023-07-11T02:41:53.215425",
   "environment_variables": {},
   "exception": null,
   "input_path": "__notebook__.ipynb",
   "output_path": "__notebook__.ipynb",
   "parameters": {},
   "start_time": "2023-07-11T00:44:16.787855",
   "version": "2.4.0"
  }
 },
 "nbformat": 4,
 "nbformat_minor": 5
}
